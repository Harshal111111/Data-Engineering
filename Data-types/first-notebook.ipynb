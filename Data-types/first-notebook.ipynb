{
 "cells": [
  {
   "cell_type": "code",
   "execution_count": 3,
   "id": "6fed5a23-a42b-4733-8a4f-315d4981175b",
   "metadata": {},
   "outputs": [
    {
     "name": "stdout",
     "output_type": "stream",
     "text": [
      "hello\n"
     ]
    }
   ],
   "source": [
    "print(\"hello\")"
   ]
  },
  {
   "cell_type": "code",
   "execution_count": null,
   "id": "59ba0f0e-4859-4ae2-9022-e54445c76f85",
   "metadata": {},
   "outputs": [],
   "source": []
  },
  {
   "cell_type": "code",
   "execution_count": 8,
   "id": "aa9556c1-9bc4-436f-b5ba-425248617c79",
   "metadata": {},
   "outputs": [
    {
     "name": "stdout",
     "output_type": "stream",
     "text": [
      "Defaulting to user installation because normal site-packages is not writeable\n",
      "Collecting opencv-python\n",
      "  Downloading opencv_python-4.10.0.84-cp37-abi3-manylinux_2_17_x86_64.manylinux2014_x86_64.whl.metadata (20 kB)\n",
      "Collecting numpy>=1.21.2 (from opencv-python)\n",
      "  Using cached numpy-2.1.1-cp313-cp313-manylinux_2_17_x86_64.manylinux2014_x86_64.whl.metadata (60 kB)\n",
      "Downloading opencv_python-4.10.0.84-cp37-abi3-manylinux_2_17_x86_64.manylinux2014_x86_64.whl (62.5 MB)\n",
      "\u001b[2K   \u001b[38;2;114;156;31m━━━━━━━━━━━━━━━━━━━━━━━━━━━━━━━━━━━━━━━━\u001b[0m \u001b[32m62.5/62.5 MB\u001b[0m \u001b[31m21.0 MB/s\u001b[0m eta \u001b[36m0:00:00\u001b[0mm eta \u001b[36m0:00:01\u001b[0m0:01\u001b[0m:01\u001b[0m\n",
      "\u001b[?25hUsing cached numpy-2.1.1-cp313-cp313-manylinux_2_17_x86_64.manylinux2014_x86_64.whl (16.0 MB)\n",
      "Installing collected packages: numpy, opencv-python\n",
      "Successfully installed numpy-2.1.1 opencv-python-4.10.0.84\n",
      "Note: you may need to restart the kernel to use updated packages.\n"
     ]
    }
   ],
   "source": [
    "%pip install opencv-python"
   ]
  },
  {
   "cell_type": "code",
   "execution_count": 3,
   "id": "b95abe2a-6cec-4730-bde0-df24114f54a0",
   "metadata": {},
   "outputs": [
    {
     "name": "stdout",
     "output_type": "stream",
     "text": [
      "Defaulting to user installation because normal site-packages is not writeable\n",
      "Collecting pandas\n",
      "  Using cached pandas-2.2.2.tar.gz (4.4 MB)\n",
      "  Installing build dependencies ... \u001b[?25ldone\n",
      "\u001b[?25h  Getting requirements to build wheel ... \u001b[?25ldone\n",
      "\u001b[?25h  Installing backend dependencies ... \u001b[?25ldone\n",
      "\u001b[?25h  Preparing metadata (pyproject.toml) ... \u001b[?25lerror\n",
      "  \u001b[1;31merror\u001b[0m: \u001b[1msubprocess-exited-with-error\u001b[0m\n",
      "  \n",
      "  \u001b[31m×\u001b[0m \u001b[32mPreparing metadata \u001b[0m\u001b[1;32m(\u001b[0m\u001b[32mpyproject.toml\u001b[0m\u001b[1;32m)\u001b[0m did not run successfully.\n",
      "  \u001b[31m│\u001b[0m exit code: \u001b[1;36m1\u001b[0m\n",
      "  \u001b[31m╰─>\u001b[0m \u001b[31m[63 lines of output]\u001b[0m\n",
      "  \u001b[31m   \u001b[0m \u001b[36m\u001b[1m+ meson setup /tmp/pip-install-l9zeu09g/pandas_5051f1d045714cd094eb72e5d609f8d4 /tmp/pip-install-l9zeu09g/pandas_5051f1d045714cd094eb72e5d609f8d4/.mesonpy-kto1kb3s/build -Dbuildtype=release -Db_ndebug=if-release -Db_vscrt=md --vsenv --native-file=/tmp/pip-install-l9zeu09g/pandas_5051f1d045714cd094eb72e5d609f8d4/.mesonpy-kto1kb3s/build/meson-python-native-file.ini\u001b[0m\n",
      "  \u001b[31m   \u001b[0m The Meson build system\n",
      "  \u001b[31m   \u001b[0m Version: 1.2.1\n",
      "  \u001b[31m   \u001b[0m Source dir: /tmp/pip-install-l9zeu09g/pandas_5051f1d045714cd094eb72e5d609f8d4\n",
      "  \u001b[31m   \u001b[0m Build dir: /tmp/pip-install-l9zeu09g/pandas_5051f1d045714cd094eb72e5d609f8d4/.mesonpy-kto1kb3s/build\n",
      "  \u001b[31m   \u001b[0m Build type: native build\n",
      "  \u001b[31m   \u001b[0m Project name: pandas\n",
      "  \u001b[31m   \u001b[0m Project version: 2.2.2\n",
      "  \u001b[31m   \u001b[0m C compiler for the host machine: cc (gcc 9.4.0 \"cc (Ubuntu 9.4.0-1ubuntu1~20.04.2) 9.4.0\")\n",
      "  \u001b[31m   \u001b[0m C linker for the host machine: cc ld.bfd 2.34\n",
      "  \u001b[31m   \u001b[0m C++ compiler for the host machine: c++ (gcc 9.4.0 \"c++ (Ubuntu 9.4.0-1ubuntu1~20.04.2) 9.4.0\")\n",
      "  \u001b[31m   \u001b[0m C++ linker for the host machine: c++ ld.bfd 2.34\n",
      "  \u001b[31m   \u001b[0m Cython compiler for the host machine: cython (cython 3.0.5)\n",
      "  \u001b[31m   \u001b[0m Host machine cpu family: x86_64\n",
      "  \u001b[31m   \u001b[0m Host machine cpu: x86_64\n",
      "  \u001b[31m   \u001b[0m Program python found: YES (/usr/bin/python3.13)\n",
      "  \u001b[31m   \u001b[0m Found pkg-config: /usr/bin/pkg-config (0.29.1)\n",
      "  \u001b[31m   \u001b[0m Run-time dependency python found: YES 3.13\n",
      "  \u001b[31m   \u001b[0m Build targets in project: 53\n",
      "  \u001b[31m   \u001b[0m \n",
      "  \u001b[31m   \u001b[0m pandas 2.2.2\n",
      "  \u001b[31m   \u001b[0m \n",
      "  \u001b[31m   \u001b[0m   User defined options\n",
      "  \u001b[31m   \u001b[0m     Native files: /tmp/pip-install-l9zeu09g/pandas_5051f1d045714cd094eb72e5d609f8d4/.mesonpy-kto1kb3s/build/meson-python-native-file.ini\n",
      "  \u001b[31m   \u001b[0m     buildtype   : release\n",
      "  \u001b[31m   \u001b[0m     vsenv       : True\n",
      "  \u001b[31m   \u001b[0m     b_ndebug    : if-release\n",
      "  \u001b[31m   \u001b[0m     b_vscrt     : md\n",
      "  \u001b[31m   \u001b[0m \n",
      "  \u001b[31m   \u001b[0m Found ninja-1.11.1.git.kitware.jobserver-1 at /tmp/pip-build-env-wpvzxwti/normal/local/bin/ninja\n",
      "  \u001b[31m   \u001b[0m \n",
      "  \u001b[31m   \u001b[0m Visual Studio environment is needed to run Ninja. It is recommended to use Meson wrapper:\n",
      "  \u001b[31m   \u001b[0m /tmp/pip-build-env-wpvzxwti/overlay/local/bin/meson compile -C .\n",
      "  \u001b[31m   \u001b[0m \u001b[36m\u001b[1m+ /tmp/pip-build-env-wpvzxwti/normal/local/bin/ninja\u001b[0m\n",
      "  \u001b[31m   \u001b[0m [1/151] Generating pandas/_libs/khash_primitive_helper_pxi with a custom command\n",
      "  \u001b[31m   \u001b[0m [2/151] Generating pandas/_libs/algos_common_helper_pxi with a custom command\n",
      "  \u001b[31m   \u001b[0m [3/151] Generating pandas/_libs/algos_take_helper_pxi with a custom command\n",
      "  \u001b[31m   \u001b[0m [4/151] Generating pandas/_libs/hashtable_func_helper_pxi with a custom command\n",
      "  \u001b[31m   \u001b[0m [5/151] Generating pandas/_libs/hashtable_class_helper_pxi with a custom command\n",
      "  \u001b[31m   \u001b[0m [6/151] Generating pandas/_libs/index_class_helper_pxi with a custom command\n",
      "  \u001b[31m   \u001b[0m [7/151] Generating pandas/_libs/intervaltree_helper_pxi with a custom command\n",
      "  \u001b[31m   \u001b[0m [8/151] Generating pandas/_libs/sparse_op_helper_pxi with a custom command\n",
      "  \u001b[31m   \u001b[0m [9/151] Generating pandas/__init__.py with a custom command\n",
      "  \u001b[31m   \u001b[0m [10/151] Compiling C object pandas/_libs/tslibs/parsing.cpython-313-x86_64-linux-gnu.so.p/.._src_parser_tokenizer.c.o\n",
      "  \u001b[31m   \u001b[0m \u001b[31mFAILED: \u001b[0mpandas/_libs/tslibs/parsing.cpython-313-x86_64-linux-gnu.so.p/.._src_parser_tokenizer.c.o\n",
      "  \u001b[31m   \u001b[0m cc -Ipandas/_libs/tslibs/parsing.cpython-313-x86_64-linux-gnu.so.p -Ipandas/_libs/tslibs -I../../pandas/_libs/tslibs -I../../../../pip-build-env-wpvzxwti/overlay/local/lib/python3.13/dist-packages/numpy/_core/include -I../../pandas/_libs/include -I/usr/include/python3.13 -fvisibility=hidden -fdiagnostics-color=always -DNDEBUG -D_FILE_OFFSET_BITS=64 -Wall -Winvalid-pch -Wextra -std=c11 -O3 -DNPY_NO_DEPRECATED_API=0 -DNPY_TARGET_VERSION=NPY_1_21_API_VERSION -fPIC -MD -MQ pandas/_libs/tslibs/parsing.cpython-313-x86_64-linux-gnu.so.p/.._src_parser_tokenizer.c.o -MF pandas/_libs/tslibs/parsing.cpython-313-x86_64-linux-gnu.so.p/.._src_parser_tokenizer.c.o.d -o pandas/_libs/tslibs/parsing.cpython-313-x86_64-linux-gnu.so.p/.._src_parser_tokenizer.c.o -c ../../pandas/_libs/src/parser/tokenizer.c\n",
      "  \u001b[31m   \u001b[0m In file included from \u001b[01m\u001b[K../../pandas/_libs/src/parser/tokenizer.c:19\u001b[m\u001b[K:\n",
      "  \u001b[31m   \u001b[0m \u001b[01m\u001b[K../../pandas/_libs/include/pandas/parser/tokenizer.h:15:10:\u001b[m\u001b[K \u001b[01;31m\u001b[Kfatal error: \u001b[m\u001b[KPython.h: No such file or directory\n",
      "  \u001b[31m   \u001b[0m    15 | #include \u001b[01;31m\u001b[K<Python.h>\u001b[m\u001b[K\n",
      "  \u001b[31m   \u001b[0m       |          \u001b[01;31m\u001b[K^~~~~~~~~~\u001b[m\u001b[K\n",
      "  \u001b[31m   \u001b[0m compilation terminated.\n",
      "  \u001b[31m   \u001b[0m [11/151] Compiling Cython source /tmp/pip-install-l9zeu09g/pandas_5051f1d045714cd094eb72e5d609f8d4/pandas/_libs/tslibs/base.pyx\n",
      "  \u001b[31m   \u001b[0m [12/151] Compiling Cython source /tmp/pip-install-l9zeu09g/pandas_5051f1d045714cd094eb72e5d609f8d4/pandas/_libs/tslibs/ccalendar.pyx\n",
      "  \u001b[31m   \u001b[0m [13/151] Compiling Cython source /tmp/pip-install-l9zeu09g/pandas_5051f1d045714cd094eb72e5d609f8d4/pandas/_libs/tslibs/dtypes.pyx\n",
      "  \u001b[31m   \u001b[0m [14/151] Compiling Cython source /tmp/pip-install-l9zeu09g/pandas_5051f1d045714cd094eb72e5d609f8d4/pandas/_libs/tslibs/nattype.pyx\n",
      "  \u001b[31m   \u001b[0m warning: /tmp/pip-install-l9zeu09g/pandas_5051f1d045714cd094eb72e5d609f8d4/pandas/_libs/tslibs/nattype.pyx:79:0: Global name __nat_unpickle matched from within class scope in contradiction to to Python 'class private name' rules. This may change in a future release.\n",
      "  \u001b[31m   \u001b[0m warning: /tmp/pip-install-l9zeu09g/pandas_5051f1d045714cd094eb72e5d609f8d4/pandas/_libs/tslibs/nattype.pyx:79:0: Global name __nat_unpickle matched from within class scope in contradiction to to Python 'class private name' rules. This may change in a future release.\n",
      "  \u001b[31m   \u001b[0m [15/151] Compiling Cython source /tmp/pip-install-l9zeu09g/pandas_5051f1d045714cd094eb72e5d609f8d4/pandas/_libs/tslibs/np_datetime.pyx\n",
      "  \u001b[31m   \u001b[0m [16/151] Compiling Cython source /tmp/pip-install-l9zeu09g/pandas_5051f1d045714cd094eb72e5d609f8d4/pandas/_libs/tslibs/fields.pyx\n",
      "  \u001b[31m   \u001b[0m [17/151] Compiling Cython source /tmp/pip-install-l9zeu09g/pandas_5051f1d045714cd094eb72e5d609f8d4/pandas/_libs/tslibs/parsing.pyx\n",
      "  \u001b[31m   \u001b[0m [18/151] Compiling Cython source /tmp/pip-install-l9zeu09g/pandas_5051f1d045714cd094eb72e5d609f8d4/pandas/_libs/tslibs/conversion.pyx\n",
      "  \u001b[31m   \u001b[0m [19/151] Compiling Cython source /tmp/pip-install-l9zeu09g/pandas_5051f1d045714cd094eb72e5d609f8d4/pandas/_libs/tslibs/offsets.pyx\n",
      "  \u001b[31m   \u001b[0m ninja: build stopped: subcommand failed.\n",
      "  \u001b[31m   \u001b[0m \u001b[31m[end of output]\u001b[0m\n",
      "  \n",
      "  \u001b[1;35mnote\u001b[0m: This error originates from a subprocess, and is likely not a problem with pip.\n",
      "\u001b[1;31merror\u001b[0m: \u001b[1mmetadata-generation-failed\u001b[0m\n",
      "\n",
      "\u001b[31m×\u001b[0m Encountered error while generating package metadata.\n",
      "\u001b[31m╰─>\u001b[0m See above for output.\n",
      "\n",
      "\u001b[1;35mnote\u001b[0m: This is an issue with the package mentioned above, not pip.\n",
      "\u001b[1;36mhint\u001b[0m: See above for details.\n",
      "\u001b[?25hNote: you may need to restart the kernel to use updated packages.\n"
     ]
    }
   ],
   "source": [
    "%pip install pandas\n"
   ]
  }
 ],
 "metadata": {
  "kernelspec": {
   "display_name": "Python 3 (ipykernel)",
   "language": "python",
   "name": "python3"
  },
  "language_info": {
   "codemirror_mode": {
    "name": "ipython",
    "version": 3
   },
   "file_extension": ".py",
   "mimetype": "text/x-python",
   "name": "python",
   "nbconvert_exporter": "python",
   "pygments_lexer": "ipython3",
   "version": "3.13.0rc1"
  }
 },
 "nbformat": 4,
 "nbformat_minor": 5
}
